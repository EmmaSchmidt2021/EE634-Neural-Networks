{
 "cells": [
  {
   "cell_type": "markdown",
   "id": "3d909b0b",
   "metadata": {},
   "source": [
    "Import Libraries"
   ]
  },
  {
   "cell_type": "code",
   "execution_count": null,
   "id": "be5b8732",
   "metadata": {},
   "outputs": [],
   "source": [
    "import numpy as np\n",
    "import pandas as pd\n",
    "import matplotlib.pyplot as plt\n",
    "from sklearn.model_selection import train_test_split\n",
    "from sklearn.metrics import confusion_matrix, classification_report\n",
    "from sklearn.preprocessing import MinMaxScaler\n",
    "from sklearn.preprocessing import StandardScaler\n",
    "from sklearn.preprocessing import OneHotEncoder\n",
    "import tensorflow as tf\n",
    "from tensorflow import keras\n",
    "from tensorflow.keras.models import Sequential\n",
    "from tensorflow.keras.layers import Dense"
   ]
  },
  {
   "cell_type": "markdown",
   "id": "a12098ca",
   "metadata": {},
   "source": [
    "Load Cifar"
   ]
  },
  {
   "cell_type": "code",
   "execution_count": null,
   "id": "5246596b",
   "metadata": {},
   "outputs": [],
   "source": [
    "from tensorflow.keras.datasets import cifar10\n",
    "(train_images, train_labels), (test_images, test_labels) = cifar10.load_data()"
   ]
  },
  {
   "cell_type": "markdown",
   "id": "7cddfb04",
   "metadata": {},
   "source": [
    "Normalize Pixel Values"
   ]
  },
  {
   "cell_type": "code",
   "execution_count": null,
   "id": "57e31d1f",
   "metadata": {},
   "outputs": [],
   "source": []
  },
  {
   "cell_type": "markdown",
   "id": "150d0acd",
   "metadata": {},
   "source": [
    "Build CNN with\n",
    "- Convolutional Layer 1: 32 filters, (3x3) kernel, ReLU \n",
    "- MaxPooling Layer 1: (2x2) pool size\n",
    "- Convolutional Layer 2: 64 filters, (3x3) kernel, ReLU\n",
    "- MaxPooling Layer 2: (2x2) pool size\n",
    "- Flaten Layer\n",
    "- Dense Layer: 128 units, ReLU \n",
    "- Output Layer: 10 units (for 10 classes), softmax\n",
    "- Compile the baseline model with appropriate loss and metrics"
   ]
  },
  {
   "cell_type": "code",
   "execution_count": null,
   "id": "a6222ea3",
   "metadata": {},
   "outputs": [],
   "source": []
  },
  {
   "cell_type": "markdown",
   "id": "3efc0cd2",
   "metadata": {},
   "source": [
    "Keras ImageData Generator\n",
    "- horizontal\n",
    "- random rotation\n",
    "- width & hight shift"
   ]
  },
  {
   "cell_type": "code",
   "execution_count": null,
   "id": "15599998",
   "metadata": {},
   "outputs": [],
   "source": []
  },
  {
   "cell_type": "markdown",
   "id": "0db10523",
   "metadata": {},
   "source": [
    "Display Augmentation"
   ]
  },
  {
   "cell_type": "code",
   "execution_count": null,
   "id": "724076f9",
   "metadata": {},
   "outputs": [],
   "source": []
  },
  {
   "cell_type": "markdown",
   "id": "7bf8db71",
   "metadata": {},
   "source": [
    "Build CNN with data augmentation "
   ]
  },
  {
   "cell_type": "code",
   "execution_count": null,
   "id": "21fded18",
   "metadata": {},
   "outputs": [],
   "source": []
  },
  {
   "cell_type": "markdown",
   "id": "5bc38e6d",
   "metadata": {},
   "source": [
    "Evaluate models \n",
    "- baseline from disk\n",
    "- baseline from memory\n",
    "- augmented from disk\n",
    "- augmented from memory"
   ]
  },
  {
   "cell_type": "code",
   "execution_count": null,
   "id": "537e50e2",
   "metadata": {},
   "outputs": [],
   "source": []
  },
  {
   "cell_type": "markdown",
   "id": "2f35a3d5",
   "metadata": {},
   "source": [
    "Analysis\n",
    "- overfitting\n",
    "- training times"
   ]
  },
  {
   "cell_type": "code",
   "execution_count": null,
   "id": "0dca7bb3",
   "metadata": {},
   "outputs": [],
   "source": []
  }
 ],
 "metadata": {
  "kernelspec": {
   "display_name": "TF23",
   "language": "python",
   "name": "tf23"
  },
  "language_info": {
   "codemirror_mode": {
    "name": "ipython",
    "version": 3
   },
   "file_extension": ".py",
   "mimetype": "text/x-python",
   "name": "python",
   "nbconvert_exporter": "python",
   "pygments_lexer": "ipython3",
   "version": "3.8.5"
  }
 },
 "nbformat": 4,
 "nbformat_minor": 5
}
