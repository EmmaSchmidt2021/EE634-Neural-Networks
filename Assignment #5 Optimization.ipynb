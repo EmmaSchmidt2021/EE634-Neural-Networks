{
 "cells": [
  {
   "cell_type": "markdown",
   "id": "7a46e3e8",
   "metadata": {},
   "source": [
    "# Import Libraries"
   ]
  },
  {
   "cell_type": "code",
   "execution_count": 1,
   "id": "4c448db5",
   "metadata": {},
   "outputs": [],
   "source": [
    "import numpy as np\n",
    "import pandas as pd\n",
    "import matplotlib.pyplot as plt\n",
    "from sklearn.model_selection import train_test_split\n",
    "from sklearn.metrics import confusion_matrix, classification_report\n",
    "from sklearn.preprocessing import MinMaxScaler\n",
    "from sklearn.preprocessing import StandardScaler\n",
    "from sklearn.preprocessing import OneHotEncoder\n",
    "import tensorflow as tf\n",
    "from tensorflow import keras\n",
    "from tensorflow.keras.models import Sequential\n",
    "from tensorflow.keras.layers import Dense\n",
    "import os\n",
    "import cv2"
   ]
  },
  {
   "cell_type": "markdown",
   "id": "e785d0c8",
   "metadata": {},
   "source": [
    "## I.Build the Model"
   ]
  },
  {
   "cell_type": "code",
   "execution_count": 3,
   "id": "2653a0b8",
   "metadata": {},
   "outputs": [
    {
     "name": "stdout",
     "output_type": "stream",
     "text": [
      "Downloading data from https://storage.googleapis.com/tensorflow/keras-applications/mobilenet_v2/mobilenet_v2_weights_tf_dim_ordering_tf_kernels_1.0_224_no_top.h5\n",
      "9406464/9406464 [==============================] - 0s 0us/step\n"
     ]
    }
   ],
   "source": [
    "import tensorflow as tf\n",
    "from tensorflow.keras.applications import MobileNetV2\n",
    "# Load the pre-trained MobileNetV2 model, excluding the top classification layer\n",
    "base_model = MobileNetV2(input_shape=(224, 224, 3), include_top=False, weights='imagenet')\n",
    "# Freeze the base model\n",
    "base_model.trainable = False"
   ]
  },
  {
   "cell_type": "code",
   "execution_count": null,
   "id": "fd83b65a",
   "metadata": {},
   "outputs": [],
   "source": [
    "from tensorflow.keras.models import Model\n",
    "from tensorflow.keras.layers import Input, GlobalAveragePooling2D, Dense\n",
    "# Create new model on top\n",
    "inputs = Input(shape=(96, 96, 3))\n",
    "x = base_model(inputs)\n",
    "x = GlobalAveragePooling2D()(x)\n",
    "outputs = Dense(10, activation='softmax')(x)\n",
    "model = Model(inputs, outputs)"
   ]
  },
  {
   "cell_type": "markdown",
   "id": "a0461ba7",
   "metadata": {},
   "source": [
    "## II. PreProcess the Data\n"
   ]
  },
  {
   "cell_type": "code",
   "execution_count": 4,
   "id": "74fe220b",
   "metadata": {},
   "outputs": [],
   "source": [
    "from tensorflow.keras.datasets import cifar10\n",
    "from tensorflow.keras.utils import to_categorical\n",
    "# Load CIFAR-10 data\n",
    "(train_images, train_labels), (test_images, test_labels) = cifar10.load_data()\n",
    "# Normalize pixel values to be between 0 and 1\n",
    "train_images, test_images = train_images / 255.0, test_images / 255.0\n",
    "# Convert labels to one-hot encoding\n",
    "train_labels = to_categorical(train_labels, 10)\n",
    "test_labels = to_categorical(test_labels, 10)\n",
    "# Resize images from 32x32 to 96x96 to fit MobileNetV2 input size requirements\n",
    "train_images_resized = tf.image.resize(train_images, (96, 96))\n",
    "test_images_resized = tf.image.resize(test_images, (96, 96))"
   ]
  },
  {
   "cell_type": "markdown",
   "id": "ebbb920b",
   "metadata": {},
   "source": [
    "## III. Compile and Train Base Model"
   ]
  },
  {
   "cell_type": "code",
   "execution_count": null,
   "id": "38e4e706",
   "metadata": {},
   "outputs": [],
   "source": [
    "from tensorflow.keras.optimizers import Adam\n",
    "# Compile the model\n",
    "model.compile(optimizer=Adam(learning_rate=0.001), loss='categorical_crossentropy',\n",
    "metrics=['accuracy'])\n",
    "# Train the model\n",
    "model.fit(\n",
    "train_images_resized, train_labels,\n",
    "epochs=5,\n",
    "batch_size = 128,\n",
    "validation_split=0.3,\n",
    ")\n",
    "# Evaluate the model\n",
    "model.evaluate(test_images_resized, test_labels)"
   ]
  }
 ],
 "metadata": {
  "kernelspec": {
   "display_name": "TF23",
   "language": "python",
   "name": "tf23"
  },
  "language_info": {
   "codemirror_mode": {
    "name": "ipython",
    "version": 3
   },
   "file_extension": ".py",
   "mimetype": "text/x-python",
   "name": "python",
   "nbconvert_exporter": "python",
   "pygments_lexer": "ipython3",
   "version": "3.8.5"
  }
 },
 "nbformat": 4,
 "nbformat_minor": 5
}
